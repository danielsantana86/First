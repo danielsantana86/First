{
  "nbformat": 4,
  "nbformat_minor": 0,
  "metadata": {
    "colab": {
      "provenance": [],
      "authorship_tag": "ABX9TyNdBGVWHLd418Y8W/oHBo+7",
      "include_colab_link": true
    },
    "kernelspec": {
      "name": "python3",
      "display_name": "Python 3"
    },
    "language_info": {
      "name": "python"
    }
  },
  "cells": [
    {
      "cell_type": "markdown",
      "metadata": {
        "id": "view-in-github",
        "colab_type": "text"
      },
      "source": [
        "<a href=\"https://colab.research.google.com/github/danielsantana86/First/blob/main/Untitled0.ipynb\" target=\"_parent\"><img src=\"https://colab.research.google.com/assets/colab-badge.svg\" alt=\"Open In Colab\"/></a>"
      ]
    },
    {
      "cell_type": "markdown",
      "source": [
        "Instalando o SDK do Google"
      ],
      "metadata": {
        "id": "iClwLN6ZvA1q"
      }
    },
    {
      "cell_type": "code",
      "execution_count": 1,
      "metadata": {
        "id": "pl9jq9VUuQLj"
      },
      "outputs": [],
      "source": [
        "!pip install -q -U google-generativeai"
      ]
    },
    {
      "cell_type": "code",
      "source": [
        "# Import the Python SDK\n",
        "import google.generativeai as genai\n",
        "\n",
        "from google.colab import userdata\n",
        "apy_key = userdata.get(\"Secret_key\")\n",
        "GOOGLE_API_KEY=\"apy_key\"\n",
        "genai.configure(api_key=GOOGLE_API_KEY)"
      ],
      "metadata": {
        "id": "dB8TE2IsvODz"
      },
      "execution_count": 40,
      "outputs": []
    },
    {
      "cell_type": "markdown",
      "source": [
        "Listar os modelos disponíveis"
      ],
      "metadata": {
        "id": "jgWBjlorvUMX"
      }
    },
    {
      "cell_type": "code",
      "source": [
        "for m in genai.list_models():\n",
        "  if 'generateContent' in m.supported_generation_methods:\n",
        "    print(m.name)"
      ],
      "metadata": {
        "colab": {
          "base_uri": "https://localhost:8080/",
          "height": 146
        },
        "id": "UdNzSW1ZvTjQ",
        "outputId": "2346c4a3-dffa-472f-84a5-e779b121d8a9"
      },
      "execution_count": 7,
      "outputs": [
        {
          "output_type": "stream",
          "name": "stdout",
          "text": [
            "models/gemini-1.0-pro\n",
            "models/gemini-1.0-pro-001\n",
            "models/gemini-1.0-pro-latest\n",
            "models/gemini-1.0-pro-vision-latest\n",
            "models/gemini-1.5-pro-latest\n",
            "models/gemini-pro\n",
            "models/gemini-pro-vision\n"
          ]
        }
      ]
    },
    {
      "cell_type": "markdown",
      "source": [
        "Advanced (generation) settings - Configurações avançadas"
      ],
      "metadata": {
        "id": "JCcQUsFVy_Ja"
      }
    },
    {
      "cell_type": "code",
      "source": [
        "generation_config = {\n",
        "    \"candidate_count\" :1,\n",
        "    \"temperature\" :0.5,\n",
        "}"
      ],
      "metadata": {
        "id": "u6jZiTWAvnJz"
      },
      "execution_count": 8,
      "outputs": []
    },
    {
      "cell_type": "markdown",
      "source": [
        "Safety settings - Configurações de segurança"
      ],
      "metadata": {
        "id": "N8MJfPAKz6nY"
      }
    },
    {
      "cell_type": "code",
      "source": [
        "safety_settings = {\n",
        "    \"Harassment\": \"block_none\",\n",
        "    \"Hate\": \"block_none\",\n",
        "    \"Sexually_Explicit\": \"block_none\"\n",
        "}"
      ],
      "metadata": {
        "id": "V0XGKHvzvPts"
      },
      "execution_count": 28,
      "outputs": []
    },
    {
      "cell_type": "markdown",
      "source": [
        "Iniciando o modelo"
      ],
      "metadata": {
        "id": "7wyHbNpx1Jpo"
      }
    },
    {
      "cell_type": "code",
      "source": [
        "model = genai.GenerativeModel(model_name = 'gemini-1.0-pro',\n",
        "                              generation_config = generation_config,\n",
        "                              safety_settings = safety_settings)"
      ],
      "metadata": {
        "id": "xcWHL_zn1K82"
      },
      "execution_count": 29,
      "outputs": []
    },
    {
      "cell_type": "code",
      "source": [
        "response = model.generate_content(\"Vamos aprender conteúdo sobre IA. Me dê sugestões\")\n",
        "print(response.text)"
      ],
      "metadata": {
        "colab": {
          "base_uri": "https://localhost:8080/",
          "height": 683
        },
        "id": "WhIPfROC6Nee",
        "outputId": "036f4034-109c-415e-bf89-1f188baa690c"
      },
      "execution_count": 30,
      "outputs": [
        {
          "output_type": "stream",
          "name": "stdout",
          "text": [
            "**Conceitos Fundamentais**\n",
            "\n",
            "* Definição e história da Inteligência Artificial (IA)\n",
            "* Tipos de IA: aprendizado de máquina, aprendizado profundo, processamento de linguagem natural\n",
            "* Algoritmos de IA: redes neurais, árvores de decisão, máquinas de vetores de suporte\n",
            "* Aprendizado supervisionado, não supervisionado e por reforço\n",
            "\n",
            "**Técnicas e Ferramentas**\n",
            "\n",
            "* Bibliotecas de IA: TensorFlow, PyTorch, Keras\n",
            "* Linguagens de programação para IA: Python, R, Julia\n",
            "* Técnicas de pré-processamento e pós-processamento de dados\n",
            "* Técnicas de avaliação de desempenho de IA\n",
            "\n",
            "**Aplicações da IA**\n",
            "\n",
            "* Visão computacional: reconhecimento de imagem, análise de vídeo\n",
            "* Processamento de linguagem natural: tradução automática, resumo de texto\n",
            "* Medicina: diagnóstico de doenças, descoberta de medicamentos\n",
            "* Finanças: previsão de mercado, detecção de fraude\n",
            "* Transporte: veículos autônomos, otimização de rotas\n",
            "\n",
            "**Ética e Implicações Sociais**\n",
            "\n",
            "* Viés e discriminação em IA\n",
            "* Implicações éticas do uso de IA\n",
            "* Regulamentações e políticas para IA\n",
            "* Futuro da IA e seu impacto na sociedade\n",
            "\n",
            "**Recursos de Aprendizagem**\n",
            "\n",
            "* Cursos online: Coursera, edX, Udemy\n",
            "* Tutoriais e documentação: TensorFlow, PyTorch, Keras\n",
            "* Livros e artigos: \"Inteligência Artificial: Uma abordagem moderna\" (Stuart Russell e Peter Norvig), \"Aprendizado de Máquina\" (Tom Mitchell)\n",
            "* Comunidades e fóruns online: Stack Overflow, Reddit (r/MachineLearning)\n"
          ]
        }
      ]
    },
    {
      "cell_type": "code",
      "source": [
        "chat = model.start_chat(history=[])"
      ],
      "metadata": {
        "id": "nBtuWdQd6Zsu"
      },
      "execution_count": 35,
      "outputs": []
    },
    {
      "cell_type": "code",
      "source": [
        "prompt = input(\"Esperando prompt: \")\n",
        "\n",
        "while prompt != \"fim\":\n",
        "  response = chat.send_message(prompt)\n",
        "  print(\"Resposta: \", response.text, \"\\n\")\n",
        "  prompt = input(\"Esperando prompt\")"
      ],
      "metadata": {
        "colab": {
          "base_uri": "https://localhost:8080/",
          "height": 534
        },
        "id": "J9NZmwkc6yBj",
        "outputId": "c0ab6c94-0556-4252-ea5f-74f00c61c5e1"
      },
      "execution_count": 37,
      "outputs": [
        {
          "name": "stdout",
          "output_type": "stream",
          "text": [
            "Esperando promptqual o segundo pais menor do mundo?\n",
            "Resposta:  Mônaco \n",
            "\n",
            "Esperando promptqual a comida tipica desse pais?\n",
            "Resposta:  Barbajuan \n",
            "\n",
            "Esperando promptdo que é feito?\n",
            "Resposta:  Massa de farinha recheada com espinafre, ricota, abóbora ou carne \n",
            "\n",
            "Esperando promptessa comunida também é apreciada em outro pais?\n",
            "Resposta:  Sim, na Itália \n",
            "\n",
            "Esperando promptcom quais paises esse pais faz fronteira?\n",
            "Resposta:  França \n",
            "\n",
            "Esperando promptsomente com a frança?\n",
            "Resposta:  Sim, Mônaco faz fronteira apenas com a França. \n",
            "\n",
            "Esperando promptfica em qual posição da frança?\n",
            "Resposta:  Sul \n",
            "\n",
            "Esperando promptqual mar banha esse pais?\n",
            "Resposta:  Mar Mediterrâneo \n",
            "\n",
            "Esperando promptqual a diferença de tamanho entre esse pais e o menor pais do mundo?\n",
            "Resposta:  Mônaco é cerca de 20 vezes maior que o Vaticano, o menor país do mundo. \n",
            "\n",
            "Esperando promptfim\n"
          ]
        }
      ]
    },
    {
      "cell_type": "markdown",
      "source": [],
      "metadata": {
        "id": "GH_qGkpX6w88"
      }
    },
    {
      "cell_type": "code",
      "source": [
        "chat.history"
      ],
      "metadata": {
        "colab": {
          "base_uri": "https://localhost:8080/"
        },
        "id": "ow_AG59I-sF9",
        "outputId": "2e1c52b8-acc3-4c0c-bf50-aada7c24b3e0"
      },
      "execution_count": 38,
      "outputs": [
        {
          "output_type": "execute_result",
          "data": {
            "text/plain": [
              "[parts {\n",
              "   text: \"Qual a capital do jap\\303\\243o?\"\n",
              " }\n",
              " role: \"user\",\n",
              " parts {\n",
              "   text: \"T\\303\\263quio\"\n",
              " }\n",
              " role: \"model\",\n",
              " parts {\n",
              "   text: \"Qual menor pais do mundo?\"\n",
              " }\n",
              " role: \"user\",\n",
              " parts {\n",
              "   text: \"Vaticano\"\n",
              " }\n",
              " role: \"model\",\n",
              " parts {\n",
              "   text: \"qual o segundo pais menor do mundo?\"\n",
              " }\n",
              " role: \"user\",\n",
              " parts {\n",
              "   text: \"M\\303\\264naco\"\n",
              " }\n",
              " role: \"model\",\n",
              " parts {\n",
              "   text: \"qual a comida tipica desse pais?\"\n",
              " }\n",
              " role: \"user\",\n",
              " parts {\n",
              "   text: \"Barbajuan\"\n",
              " }\n",
              " role: \"model\",\n",
              " parts {\n",
              "   text: \"do que \\303\\251 feito?\"\n",
              " }\n",
              " role: \"user\",\n",
              " parts {\n",
              "   text: \"Massa de farinha recheada com espinafre, ricota, ab\\303\\263bora ou carne\"\n",
              " }\n",
              " role: \"model\",\n",
              " parts {\n",
              "   text: \"essa comunida tamb\\303\\251m \\303\\251 apreciada em outro pais?\"\n",
              " }\n",
              " role: \"user\",\n",
              " parts {\n",
              "   text: \"Sim, na It\\303\\241lia\"\n",
              " }\n",
              " role: \"model\",\n",
              " parts {\n",
              "   text: \"com quais paises esse pais faz fronteira?\"\n",
              " }\n",
              " role: \"user\",\n",
              " parts {\n",
              "   text: \"Fran\\303\\247a\"\n",
              " }\n",
              " role: \"model\",\n",
              " parts {\n",
              "   text: \"somente com a fran\\303\\247a?\"\n",
              " }\n",
              " role: \"user\",\n",
              " parts {\n",
              "   text: \"Sim, M\\303\\264naco faz fronteira apenas com a Fran\\303\\247a.\"\n",
              " }\n",
              " role: \"model\",\n",
              " parts {\n",
              "   text: \"fica em qual posi\\303\\247\\303\\243o da fran\\303\\247a?\"\n",
              " }\n",
              " role: \"user\",\n",
              " parts {\n",
              "   text: \"Sul\"\n",
              " }\n",
              " role: \"model\",\n",
              " parts {\n",
              "   text: \"qual mar banha esse pais?\"\n",
              " }\n",
              " role: \"user\",\n",
              " parts {\n",
              "   text: \"Mar Mediterr\\303\\242neo\"\n",
              " }\n",
              " role: \"model\",\n",
              " parts {\n",
              "   text: \"qual a diferen\\303\\247a de tamanho entre esse pais e o menor pais do mundo?\"\n",
              " }\n",
              " role: \"user\",\n",
              " parts {\n",
              "   text: \"M\\303\\264naco \\303\\251 cerca de 20 vezes maior que o Vaticano, o menor pa\\303\\255s do mundo.\"\n",
              " }\n",
              " role: \"model\"]"
            ]
          },
          "metadata": {},
          "execution_count": 38
        }
      ]
    },
    {
      "cell_type": "markdown",
      "source": [
        "Linha de código para mostrar o resultado mais bonito visualmente\n"
      ],
      "metadata": {
        "id": "qMOQTbZq_A9T"
      }
    },
    {
      "cell_type": "code",
      "source": [
        "#Melhorando a visualização\n",
        "#Código disponível em https://ai.google.dev/tutorials/python_quickstart#import_packages\n",
        "import textwrap\n",
        "from IPython.display import display\n",
        "from IPython.display import Markdown\n",
        "\n",
        "def to_markdown(text):\n",
        "  text = text.replace('•', '  *')\n",
        "  return Markdown(textwrap.indent(text, '> ', predicate=lambda _: True))\n",
        "\n",
        "#Imprimindo o histórico\n",
        "for message in chat.history:\n",
        "  display(to_markdown(f'**{message.role}**: {message.parts[0].text}'))\n",
        "  print('-------------------------------------------')"
      ],
      "metadata": {
        "colab": {
          "base_uri": "https://localhost:8080/",
          "height": 1000
        },
        "id": "s-LWWiE9_AUx",
        "outputId": "ee8c5515-83a3-4bed-c123-9fe5f3d7d540"
      },
      "execution_count": 39,
      "outputs": [
        {
          "output_type": "display_data",
          "data": {
            "text/plain": [
              "<IPython.core.display.Markdown object>"
            ],
            "text/markdown": "> **user**: Qual a capital do japão?"
          },
          "metadata": {}
        },
        {
          "output_type": "stream",
          "name": "stdout",
          "text": [
            "-------------------------------------------\n"
          ]
        },
        {
          "output_type": "display_data",
          "data": {
            "text/plain": [
              "<IPython.core.display.Markdown object>"
            ],
            "text/markdown": "> **model**: Tóquio"
          },
          "metadata": {}
        },
        {
          "output_type": "stream",
          "name": "stdout",
          "text": [
            "-------------------------------------------\n"
          ]
        },
        {
          "output_type": "display_data",
          "data": {
            "text/plain": [
              "<IPython.core.display.Markdown object>"
            ],
            "text/markdown": "> **user**: Qual menor pais do mundo?"
          },
          "metadata": {}
        },
        {
          "output_type": "stream",
          "name": "stdout",
          "text": [
            "-------------------------------------------\n"
          ]
        },
        {
          "output_type": "display_data",
          "data": {
            "text/plain": [
              "<IPython.core.display.Markdown object>"
            ],
            "text/markdown": "> **model**: Vaticano"
          },
          "metadata": {}
        },
        {
          "output_type": "stream",
          "name": "stdout",
          "text": [
            "-------------------------------------------\n"
          ]
        },
        {
          "output_type": "display_data",
          "data": {
            "text/plain": [
              "<IPython.core.display.Markdown object>"
            ],
            "text/markdown": "> **user**: qual o segundo pais menor do mundo?"
          },
          "metadata": {}
        },
        {
          "output_type": "stream",
          "name": "stdout",
          "text": [
            "-------------------------------------------\n"
          ]
        },
        {
          "output_type": "display_data",
          "data": {
            "text/plain": [
              "<IPython.core.display.Markdown object>"
            ],
            "text/markdown": "> **model**: Mônaco"
          },
          "metadata": {}
        },
        {
          "output_type": "stream",
          "name": "stdout",
          "text": [
            "-------------------------------------------\n"
          ]
        },
        {
          "output_type": "display_data",
          "data": {
            "text/plain": [
              "<IPython.core.display.Markdown object>"
            ],
            "text/markdown": "> **user**: qual a comida tipica desse pais?"
          },
          "metadata": {}
        },
        {
          "output_type": "stream",
          "name": "stdout",
          "text": [
            "-------------------------------------------\n"
          ]
        },
        {
          "output_type": "display_data",
          "data": {
            "text/plain": [
              "<IPython.core.display.Markdown object>"
            ],
            "text/markdown": "> **model**: Barbajuan"
          },
          "metadata": {}
        },
        {
          "output_type": "stream",
          "name": "stdout",
          "text": [
            "-------------------------------------------\n"
          ]
        },
        {
          "output_type": "display_data",
          "data": {
            "text/plain": [
              "<IPython.core.display.Markdown object>"
            ],
            "text/markdown": "> **user**: do que é feito?"
          },
          "metadata": {}
        },
        {
          "output_type": "stream",
          "name": "stdout",
          "text": [
            "-------------------------------------------\n"
          ]
        },
        {
          "output_type": "display_data",
          "data": {
            "text/plain": [
              "<IPython.core.display.Markdown object>"
            ],
            "text/markdown": "> **model**: Massa de farinha recheada com espinafre, ricota, abóbora ou carne"
          },
          "metadata": {}
        },
        {
          "output_type": "stream",
          "name": "stdout",
          "text": [
            "-------------------------------------------\n"
          ]
        },
        {
          "output_type": "display_data",
          "data": {
            "text/plain": [
              "<IPython.core.display.Markdown object>"
            ],
            "text/markdown": "> **user**: essa comunida também é apreciada em outro pais?"
          },
          "metadata": {}
        },
        {
          "output_type": "stream",
          "name": "stdout",
          "text": [
            "-------------------------------------------\n"
          ]
        },
        {
          "output_type": "display_data",
          "data": {
            "text/plain": [
              "<IPython.core.display.Markdown object>"
            ],
            "text/markdown": "> **model**: Sim, na Itália"
          },
          "metadata": {}
        },
        {
          "output_type": "stream",
          "name": "stdout",
          "text": [
            "-------------------------------------------\n"
          ]
        },
        {
          "output_type": "display_data",
          "data": {
            "text/plain": [
              "<IPython.core.display.Markdown object>"
            ],
            "text/markdown": "> **user**: com quais paises esse pais faz fronteira?"
          },
          "metadata": {}
        },
        {
          "output_type": "stream",
          "name": "stdout",
          "text": [
            "-------------------------------------------\n"
          ]
        },
        {
          "output_type": "display_data",
          "data": {
            "text/plain": [
              "<IPython.core.display.Markdown object>"
            ],
            "text/markdown": "> **model**: França"
          },
          "metadata": {}
        },
        {
          "output_type": "stream",
          "name": "stdout",
          "text": [
            "-------------------------------------------\n"
          ]
        },
        {
          "output_type": "display_data",
          "data": {
            "text/plain": [
              "<IPython.core.display.Markdown object>"
            ],
            "text/markdown": "> **user**: somente com a frança?"
          },
          "metadata": {}
        },
        {
          "output_type": "stream",
          "name": "stdout",
          "text": [
            "-------------------------------------------\n"
          ]
        },
        {
          "output_type": "display_data",
          "data": {
            "text/plain": [
              "<IPython.core.display.Markdown object>"
            ],
            "text/markdown": "> **model**: Sim, Mônaco faz fronteira apenas com a França."
          },
          "metadata": {}
        },
        {
          "output_type": "stream",
          "name": "stdout",
          "text": [
            "-------------------------------------------\n"
          ]
        },
        {
          "output_type": "display_data",
          "data": {
            "text/plain": [
              "<IPython.core.display.Markdown object>"
            ],
            "text/markdown": "> **user**: fica em qual posição da frança?"
          },
          "metadata": {}
        },
        {
          "output_type": "stream",
          "name": "stdout",
          "text": [
            "-------------------------------------------\n"
          ]
        },
        {
          "output_type": "display_data",
          "data": {
            "text/plain": [
              "<IPython.core.display.Markdown object>"
            ],
            "text/markdown": "> **model**: Sul"
          },
          "metadata": {}
        },
        {
          "output_type": "stream",
          "name": "stdout",
          "text": [
            "-------------------------------------------\n"
          ]
        },
        {
          "output_type": "display_data",
          "data": {
            "text/plain": [
              "<IPython.core.display.Markdown object>"
            ],
            "text/markdown": "> **user**: qual mar banha esse pais?"
          },
          "metadata": {}
        },
        {
          "output_type": "stream",
          "name": "stdout",
          "text": [
            "-------------------------------------------\n"
          ]
        },
        {
          "output_type": "display_data",
          "data": {
            "text/plain": [
              "<IPython.core.display.Markdown object>"
            ],
            "text/markdown": "> **model**: Mar Mediterrâneo"
          },
          "metadata": {}
        },
        {
          "output_type": "stream",
          "name": "stdout",
          "text": [
            "-------------------------------------------\n"
          ]
        },
        {
          "output_type": "display_data",
          "data": {
            "text/plain": [
              "<IPython.core.display.Markdown object>"
            ],
            "text/markdown": "> **user**: qual a diferença de tamanho entre esse pais e o menor pais do mundo?"
          },
          "metadata": {}
        },
        {
          "output_type": "stream",
          "name": "stdout",
          "text": [
            "-------------------------------------------\n"
          ]
        },
        {
          "output_type": "display_data",
          "data": {
            "text/plain": [
              "<IPython.core.display.Markdown object>"
            ],
            "text/markdown": "> **model**: Mônaco é cerca de 20 vezes maior que o Vaticano, o menor país do mundo."
          },
          "metadata": {}
        },
        {
          "output_type": "stream",
          "name": "stdout",
          "text": [
            "-------------------------------------------\n"
          ]
        }
      ]
    }
  ]
}